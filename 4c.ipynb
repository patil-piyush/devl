{
 "cells": [
  {
   "cell_type": "code",
   "execution_count": 1,
   "metadata": {},
   "outputs": [
    {
     "name": "stdout",
     "output_type": "stream",
     "text": [
      "   Making Unit 1  Making Unit 2\n",
      "0         6.8090         6.7703\n",
      "1         6.4376         7.5093\n",
      "2         6.9157         6.7300\n",
      "3         7.3012         6.7878\n",
      "Shape of the dataset: (35, 2)\n"
     ]
    }
   ],
   "source": [
    "import pandas as pd\n",
    "import numpy as np\n",
    "from scipy.stats import shapiro, ttest_ind\n",
    "\n",
    "df = pd.read_csv('pizzas.csv')\n",
    "print(df.head(4))\n",
    "print(f\"Shape of the dataset: {df.shape}\")\n",
    "\n",
    "H0 = 'Data is normal'\n",
    "Ha = 'Data is not normal'\n",
    "alpha = 0.05"
   ]
  },
  {
   "cell_type": "code",
   "execution_count": 2,
   "metadata": {},
   "outputs": [
    {
     "name": "stdout",
     "output_type": "stream",
     "text": [
      "Shapiro-Wilk Test p-value for Making Unit 1: 0.32\n",
      "Shapiro-Wilk Test p-value for Making Unit 2: 0.52\n",
      "0.32 > 0.05. We fail to reject the Null Hypothesis for Making Unit 1. Data is normal\n",
      "0.52 > 0.05. We fail to reject the Null Hypothesis for Making Unit 2. Data is normal\n"
     ]
    }
   ],
   "source": [
    "\n",
    "p1 = round(shapiro(df['Making Unit 1'])[1], 2)\n",
    "print(f\"Shapiro-Wilk Test p-value for Making Unit 1: {p1}\")\n",
    "\n",
    "p2 = round(shapiro(df['Making Unit 2'])[1], 2)\n",
    "print(f\"Shapiro-Wilk Test p-value for Making Unit 2: {p2}\")\n",
    "\n",
    "if p1 > alpha:\n",
    "    print(f\"{p1} > {alpha}. We fail to reject the Null Hypothesis for Making Unit 1. {H0}\")\n",
    "else:\n",
    "    print(f\"{p1} <= {alpha}. We reject the Null Hypothesis for Making Unit 1. {Ha}\")\n",
    "\n",
    "if p2 > alpha:\n",
    "    print(f\"{p2} > {alpha}. We fail to reject the Null Hypothesis for Making Unit 2. {H0}\")\n",
    "else:\n",
    "    print(f\"{p2} <= {alpha}. We reject the Null Hypothesis for Making Unit 2. {Ha}\")"
   ]
  },
  {
   "cell_type": "code",
   "execution_count": 3,
   "metadata": {},
   "outputs": [
    {
     "name": "stdout",
     "output_type": "stream",
     "text": [
      "T-statistic: 0.7228688704678063, p-value: 0.47223947245995\n",
      "0.47223947245995 >= 0.05. We fail to reject the Null Hypothesis. No significant difference in average diameter.\n"
     ]
    }
   ],
   "source": [
    "\n",
    "if p1 > alpha and p2 > alpha:\n",
    "    t_stat, p_value = ttest_ind(df['Making Unit 1'], df['Making Unit 2'])\n",
    "    print(f\"T-statistic: {t_stat}, p-value: {p_value}\")\n",
    "\n",
    "    if p_value < alpha:\n",
    "        print(f\"{p_value} < {alpha}. We reject the Null Hypothesis. There is a significant difference in average diameter.\")\n",
    "    else:\n",
    "        print(f\"{p_value} >= {alpha}. We fail to reject the Null Hypothesis. No significant difference in average diameter.\")\n",
    "else:\n",
    "    print(\"Normality assumption is violated. Consider using a non-parametric test such as the Mann-Whitney U test.\")"
   ]
  }
 ],
 "metadata": {
  "kernelspec": {
   "display_name": "Python 3 (ipykernel)",
   "language": "python",
   "name": "python3"
  },
  "language_info": {
   "codemirror_mode": {
    "name": "ipython",
    "version": 3
   },
   "file_extension": ".py",
   "mimetype": "text/x-python",
   "name": "python",
   "nbconvert_exporter": "python",
   "pygments_lexer": "ipython3",
   "version": "3.12.6"
  }
 },
 "nbformat": 4,
 "nbformat_minor": 4
}
